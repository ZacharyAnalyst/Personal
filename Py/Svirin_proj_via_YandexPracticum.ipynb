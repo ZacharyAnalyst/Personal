{
 "cells": [
  {
   "cell_type": "code",
   "execution_count": 14,
   "id": "9b5adc4c",
   "metadata": {},
   "outputs": [],
   "source": [
    "import pandas as pd\n",
    "import numpy as np\n",
    "import seaborn as sns\n",
    "import matplotlib.pyplot as plt\n",
    "from scipy import stats as st\n",
    "import glob\n",
    "import warnings"
   ]
  },
  {
   "cell_type": "code",
   "execution_count": 15,
   "id": "6e6ddb4d",
   "metadata": {},
   "outputs": [],
   "source": [
    "# Задачи для рефакторинга:\n",
    "#  - Использовать фрейм os или glob для нормального импорта. Done! \n",
    "#  - Нормально оформить заголовки и комменты. In process\n",
    "#  - Обработать ошибки Try/Except In process\n",
    "# Прогресс - 99% (остался косметический и кодовый рефакторинг)"
   ]
  },
  {
   "cell_type": "markdown",
   "id": "05c8c0c5",
   "metadata": {},
   "source": [
    "## Описание проекта\n",
    "\n",
    "#### Вы аналитик компании «Мегалайн» — федерального оператора сотовой связи. Клиентам предлагают два тарифного плана: «Смарт» и «Ультра». Чтобы скорректировать рекламный бюджет, коммерческий департамент хочет понять, какой тариф приносит больше денег. \n",
    "\n",
    "#### Вам предстоит сделать предварительный анализ тарифов на небольшой выборке клиентов. В вашем распоряжении данные 500 пользователей «Мегалайна»: кто они, откуда, каким тарифом пользуются, сколько звонков и сообщений каждый отправил за 2018 год. Нужно проанализировать поведение клиентов и сделать вывод — какой тариф лучше.\n",
    "\n",
    "> Описание проекта и датасеты взяты из одного из проектов YandexPracticum*"
   ]
  },
  {
   "cell_type": "code",
   "execution_count": 16,
   "id": "57f32f45",
   "metadata": {},
   "outputs": [
    {
     "data": {
      "text/plain": [
       "['/home/zachary/data_analysis_dir/data_analysis_env/files_by_yandex_practicum/calls.csv',\n",
       " '/home/zachary/data_analysis_dir/data_analysis_env/files_by_yandex_practicum/internet.csv',\n",
       " '/home/zachary/data_analysis_dir/data_analysis_env/files_by_yandex_practicum/users.csv',\n",
       " '/home/zachary/data_analysis_dir/data_analysis_env/files_by_yandex_practicum/tariffs.csv',\n",
       " '/home/zachary/data_analysis_dir/data_analysis_env/files_by_yandex_practicum/messages.csv']"
      ]
     },
     "execution_count": 16,
     "metadata": {},
     "output_type": "execute_result"
    }
   ],
   "source": [
    "path = '/home/zachary/data_analysis_dir/data_analysis_env/files_by_yandex_practicum/'\n",
    "all_files = glob.glob(path + \"/*.csv\")\n",
    "all_files"
   ]
  },
  {
   "cell_type": "code",
   "execution_count": 17,
   "id": "26c70c51",
   "metadata": {},
   "outputs": [],
   "source": [
    "calls, internet, users, tariffs, messages = [pd.read_csv(i) for i in all_files]"
   ]
  },
  {
   "cell_type": "markdown",
   "id": "7ac54c51",
   "metadata": {},
   "source": [
    "## Предобработка данных и первичный анализ:"
   ]
  },
  {
   "cell_type": "code",
   "execution_count": null,
   "id": "0c2ae84a",
   "metadata": {},
   "outputs": [],
   "source": [
    "# Меняем типы данных в подозрительных датасетах\n",
    "calls['call_date'] = calls['call_date'].apply(pd.to_datetime)\n",
    "internet['session_date'] = internet['session_date'].apply(pd.to_datetime)\n",
    "messages['message_date'] = messages['message_date'].apply(pd.to_datetime)"
   ]
  },
  {
   "cell_type": "markdown",
   "id": "1646982b",
   "metadata": {},
   "source": [
    "#### Посчитайте для каждого пользователя:\n",
    "<br>\n",
    "1. количество сделанных звонков и израсходованных минут разговора по месяцам; <br> 2. количество отправленных сообщений по месяцам; <br> 3. объем израсходованного интернет-трафика по месяцам; <br> 4. помесячную выручку с каждого пользователя  <br> (вычтите бесплатный лимит из суммарного количества звонков, <br> сообщений и интернет-трафика; остаток умножьте на значение из тарифного плана; прибавьте абонентскую плату,  <br> соответствующую тарифному плану)."
   ]
  },
  {
   "cell_type": "code",
   "execution_count": null,
   "id": "15f0d976",
   "metadata": {},
   "outputs": [],
   "source": [
    "# Создание столбцов с месяцами в каждом датасете\n",
    "calls['month'] = calls['call_date'].dt.strftime('%b')\n",
    "internet['month'] = internet['session_date'].dt.strftime('%b')\n",
    "messages['month'] = messages['message_date'].dt.strftime('%b')"
   ]
  },
  {
   "cell_type": "code",
   "execution_count": null,
   "id": "7d0ac76f",
   "metadata": {},
   "outputs": [],
   "source": [
    "# 1. количество сделанных звонков и израсходованных минут разговора по месяцам\n",
    "calls_filtred = calls.groupby(by=['user_id', 'month'], as_index=False).aggregate({'duration': ['sum', 'count']})\n",
    "calls_filtred['duration'] = calls_filtred['duration'].apply(np.ceil)\n",
    "calls_filtred.head()"
   ]
  },
  {
   "cell_type": "code",
   "execution_count": null,
   "id": "244a4a34",
   "metadata": {},
   "outputs": [],
   "source": [
    "# 2. количество отправленных сообщений по месяцам;\n",
    "messages_filtered = messages.groupby(by=['user_id', 'month'], as_index=False).aggregate(number_of_messages=('id', 'count'))\n",
    "messages_filtered.head()"
   ]
  },
  {
   "cell_type": "code",
   "execution_count": null,
   "id": "6f9d7dce",
   "metadata": {},
   "outputs": [],
   "source": [
    "# 3. объем израсходованного интернет-трафика по месяцам;\n",
    "internet_filtered = internet.groupby(by=['user_id', 'month'], as_index=False).aggregate({'mb_used': 'sum'})\n",
    "internet_filtered.head()"
   ]
  },
  {
   "cell_type": "code",
   "execution_count": null,
   "id": "75db2903",
   "metadata": {},
   "outputs": [],
   "source": [
    "# Дабы избежать путаницы, смерджим тарифы к каждому из трех датасетов для дальнейших рассчетов\n",
    "warnings.filterwarnings(\"error\")\n",
    "try:\n",
    "    calls_filtred = pd.merge(calls_filtred, users[['user_id', 'tariff']], on='user_id')\n",
    "    messages_filtered = pd.merge(messages_filtered, users[['user_id', 'tariff']], on='user_id')\n",
    "    internet_filtered = pd.merge(internet_filtered, users[['user_id', 'tariff']], on='user_id')\n",
    "except RuntimeWarning:\n",
    "    import ipdb; ipdb.set_trace()"
   ]
  },
  {
   "cell_type": "code",
   "execution_count": null,
   "id": "9dd35d39",
   "metadata": {},
   "outputs": [],
   "source": [
    "# Изменим имена столбцов для лучшей читабельности (?)\n",
    "calls_filtred.set_axis(['user_id', 'drop', 'month', 'call_duration_sum', 'call_duration_count', 'tariff'],\n",
    "                       axis='columns', \n",
    "                       inplace=True)\n",
    "calls_filtred.head()"
   ]
  },
  {
   "cell_type": "code",
   "execution_count": null,
   "id": "760a6f0e",
   "metadata": {},
   "outputs": [],
   "source": [
    "def count_calls(row):\n",
    "\n",
    "    tariff = row['tariff']\n",
    "    duration = row['call_duration_sum']\n",
    "    \n",
    "    if tariff == 'ultra':\n",
    "        if duration > 1950:\n",
    "            return duration - 1950\n",
    "        else:\n",
    "            return 0\n",
    "    else: \n",
    "        if duration > 550:\n",
    "            return (duration - 500) * 3\n",
    "        else:\n",
    "            return 0\n",
    "\n",
    "def count_messages(row):\n",
    "    \n",
    "    tariff = row['tariff']\n",
    "    quantity_of_messages = row['number_of_messages']\n",
    "    \n",
    "    if tariff == 'ultra':\n",
    "        if quantity_of_messages > 1000:\n",
    "            return quantity_of_messages - 1000 \n",
    "        else:\n",
    "            return 0\n",
    "    else:\n",
    "        if quantity_of_messages > 50:\n",
    "            return (quantity_of_messages - 50) * 3\n",
    "        else: \n",
    "            return 0\n",
    "\n",
    "def count_internet(row):\n",
    "    \n",
    "    tariff = row['tariff']\n",
    "    sum_mb_per_month = row['mb_used']\n",
    "    \n",
    "    if tariff == 'ultra':\n",
    "        if sum_mb_per_month > 30720:\n",
    "            return np.ceil((sum_mb_per_month - 30720) / 1024) * 150\n",
    "        else: \n",
    "            return 0\n",
    "    else:\n",
    "        if sum_mb_per_month > 15360:\n",
    "            return np.ceil((sum_mb_per_month - 15360) / 1024) * 200\n",
    "        else: \n",
    "            return 0    "
   ]
  },
  {
   "cell_type": "code",
   "execution_count": null,
   "id": "dbeb96bb",
   "metadata": {},
   "outputs": [],
   "source": [
    "calls_filtred['calls_over_tariff'] = calls_filtred.apply(count_calls, axis=1)"
   ]
  },
  {
   "cell_type": "code",
   "execution_count": null,
   "id": "0a82631d",
   "metadata": {},
   "outputs": [],
   "source": [
    "messages_filtered['messages_over_tariff'] = messages_filtered.apply(count_messages, axis=1)"
   ]
  },
  {
   "cell_type": "code",
   "execution_count": null,
   "id": "9ad18240",
   "metadata": {},
   "outputs": [],
   "source": [
    "internet_filtered['internet_over_tariff'] = internet_filtered.apply(count_internet, axis=1)"
   ]
  },
  {
   "cell_type": "code",
   "execution_count": null,
   "id": "f0ff8ec7",
   "metadata": {},
   "outputs": [],
   "source": [
    "df_merged = internet_filtered.merge(calls_filtred) \\\n",
    "                             .merge(messages_filtered)\n",
    "df_merged.head()"
   ]
  },
  {
   "cell_type": "code",
   "execution_count": null,
   "id": "e49628d3",
   "metadata": {
    "scrolled": true
   },
   "outputs": [],
   "source": [
    "tariffs"
   ]
  },
  {
   "cell_type": "code",
   "execution_count": null,
   "id": "4ec1224e",
   "metadata": {},
   "outputs": [],
   "source": [
    "# 4. Помесячная выручка\n",
    "def total_revenue(row):\n",
    "    \"\"\"Суммировать отклонения от стоимости тарифа и сам тариф, \n",
    "    таким образом получим помесячную выручку для каждого пользователя\"\"\"\n",
    "    tariff = row['tariff']\n",
    "    calls = row['calls_over_tariff']\n",
    "    messages = row['messages_over_tariff']\n",
    "    internet = row['internet_over_tariff']\n",
    "    \n",
    "    if tariff == 'ultra':\n",
    "        return calls + messages + internet + 1950\n",
    "    else:\n",
    "        return calls + messages + internet + 550"
   ]
  },
  {
   "cell_type": "code",
   "execution_count": null,
   "id": "e49152ec",
   "metadata": {},
   "outputs": [],
   "source": [
    "df_merged['attempt_of_revenue'] = df_merged.apply(total_revenue, axis=1)\n",
    "# Избавимся от дубликатов столбцов\n",
    "df_merged.drop(columns='drop', inplace = True)"
   ]
  },
  {
   "cell_type": "code",
   "execution_count": null,
   "id": "b65a729c",
   "metadata": {},
   "outputs": [],
   "source": [
    "df_merged.head()"
   ]
  },
  {
   "cell_type": "markdown",
   "id": "d632692b",
   "metadata": {},
   "source": [
    "## Анализ обработанных данных:"
   ]
  },
  {
   "cell_type": "code",
   "execution_count": null,
   "id": "1829f516",
   "metadata": {},
   "outputs": [],
   "source": [
    "# Сколько минут разговора, сколько сообщений и какой объём интернет-трафика \n",
    "# требуется пользователям каждого тарифа в месяц?\n",
    "# Посчитайте среднее количество, дисперсию и стандартное отклонение. Постройте гистограммы. Опишите распределения."
   ]
  },
  {
   "cell_type": "code",
   "execution_count": null,
   "id": "49d668a4",
   "metadata": {},
   "outputs": [],
   "source": [
    "# - Для тарифа smart:\n",
    "average_per_month_smart = df_merged[df_merged['tariff'] == 'smart'] \\\n",
    "                          .groupby(by='user_id') \\\n",
    "                          .aggregate(average_of_calls=('call_duration_count', 'mean'), \n",
    "                                      average_of_messages=('number_of_messages', 'mean'),\n",
    "                                      average_of_mb_used=('mb_used', 'mean'),\n",
    "                                      revenue=('attempt_of_revenue', 'mean'))\n",
    "average_per_month_smart.head()"
   ]
  },
  {
   "cell_type": "code",
   "execution_count": null,
   "id": "48e0d488",
   "metadata": {},
   "outputs": [],
   "source": [
    "# Построим гистограммы и найдем меры изменчивости(?)\n",
    "try:\n",
    "    fig = plt.figure(figsize=(14,18))\n",
    "\n",
    "    a, b, c = 3, 2, 1\n",
    "    for name in average_per_month_smart.columns:\n",
    "        plt.subplot(a, b, c)\n",
    "        plt.title(f\"{name}: histplot, subplot: {a}{b}{c}\")\n",
    "        plt.xlabel(name)\n",
    "        sns.histplot(average_per_month_smart[name], kde=True)\n",
    "        c = c + 1\n",
    "\n",
    "        plt.subplot(a, b, c)\n",
    "        plt.title(f\"{name}: boxplot, subplot: {a}{b}{c}\")\n",
    "        plt.xlabel(name)\n",
    "        plt.boxplot(average_per_month_smart[name])\n",
    "        c = c + 1\n",
    "except ValueError:\n",
    "    \n",
    "    plt.show()"
   ]
  },
  {
   "cell_type": "markdown",
   "id": "45032898",
   "metadata": {},
   "source": [
    "##### - В целом, наши пользователи тарифа смарт делают около 60 звонков в месяц. <br> - По количеству сообщений не все так однозначно, т.к. имеется скошенность вправо и явные выбросы, <br> поэтому стоит доверять медиане - 33 сообщениям, как устойчивой к выбросам величине. <br> - Трафик также, как и звонки распределен ближе к нормальному, а значит мы можем смело утверждать, <br> что в среднем тратится около 16.3 гб"
   ]
  },
  {
   "cell_type": "code",
   "execution_count": null,
   "id": "7f60e664",
   "metadata": {},
   "outputs": [],
   "source": [
    "average_per_month_smart.describe()"
   ]
  },
  {
   "cell_type": "code",
   "execution_count": null,
   "id": "c55d24e7",
   "metadata": {},
   "outputs": [],
   "source": [
    "# - Для тарифа ultra:\n",
    "average_per_month_ultra = df_merged[df_merged['tariff'] == 'ultra'] \\\n",
    "                          .groupby(by='user_id') \\\n",
    "                          .aggregate(average_of_calls=('call_duration_count', 'mean'), \n",
    "                                      average_of_messages=('number_of_messages', 'mean'),\n",
    "                                      average_of_mb_used=('mb_used', 'mean'))\n",
    "average_per_month_ultra.describe()"
   ]
  },
  {
   "cell_type": "code",
   "execution_count": null,
   "id": "976a386e",
   "metadata": {
    "scrolled": false
   },
   "outputs": [],
   "source": [
    "# Построим гистограммы и найдем меры изменчивости(?)\n",
    "try:\n",
    "    fig = plt.figure(figsize=(14,18))\n",
    "\n",
    "    a, b, c = 3, 2, 1\n",
    "    for name in average_per_month_ultra.columns:\n",
    "        plt.subplot(a, b, c)\n",
    "        plt.title(f\"{name}: histplot, subplot: {a}{b}{c}\")\n",
    "        plt.xlabel(name)\n",
    "        sns.histplot(average_per_month_ultra[name], kde=True)\n",
    "        c = c + 1\n",
    "\n",
    "        plt.subplot(a, b, c)\n",
    "        plt.title(f\"{name}: boxplot, subplot: {a}{b}{c}\")\n",
    "        plt.xlabel(name)\n",
    "        plt.boxplot(average_per_month_ultra[name])\n",
    "        c = c + 1\n",
    "        \n",
    "except ValueError:\n",
    "    \n",
    "    plt.show()\n"
   ]
  },
  {
   "cell_type": "markdown",
   "id": "ca93a793",
   "metadata": {},
   "source": [
    "#### - Несмотря на небольшую выборку, мы можем точно сказать о правдивости данных, т.е звонки распределены нормально <br> и в среднем составляют чуть больше 77 в месяц <br> - Что касается сообщений, они также имеют небольшую скошенность вправо и соответственно и выбросы, <br> а значит, стоит доверять медиане - 59 в месяц <br> - Использовано траффика на 19.6 гб, что на ~4 гб больше, чем на тарифе смарт"
   ]
  },
  {
   "cell_type": "code",
   "execution_count": null,
   "id": "0501d73f",
   "metadata": {},
   "outputs": [],
   "source": [
    "average_per_month_ultra.describe()"
   ]
  },
  {
   "cell_type": "markdown",
   "id": "698ee970",
   "metadata": {},
   "source": [
    "## Проверка Гипотез"
   ]
  },
  {
   "cell_type": "code",
   "execution_count": null,
   "id": "ffc80f88",
   "metadata": {},
   "outputs": [],
   "source": [
    "# 1. средняя выручка пользователей тарифов «Ультра» и «Смарт» различаются\n",
    "average_revenue_smart = df_merged[df_merged['tariff'] == 'smart'] \\\n",
    "                          .groupby(by='user_id') \\\n",
    "                          .aggregate(revenue=('attempt_of_revenue', 'mean'))\n",
    "average_revenue_ultra = df_merged[df_merged['tariff'] == 'ultra'] \\\n",
    "                          .groupby(by='user_id') \\\n",
    "                          .aggregate(revenue=('attempt_of_revenue', 'mean'))\n",
    "\n",
    "first_test_result = st.ttest_ind(average_revenue_smart['revenue'],\n",
    "                                 average_revenue_ultra['revenue'], \n",
    "                                 equal_var=True).pvalue\n",
    "alpha = 0.05\n",
    "print(f\"p-значение: {first_test_result}\")\n",
    "\n",
    "if first_test_result < alpha: \n",
    "    print('Отвергаем нулевую гипотезу!\\nP value слишком низкий, что и подтверждает наше предположение')\n",
    "else: \n",
    "    print('Не получилось отвергнуть нулевую гипотезу!')"
   ]
  },
  {
   "cell_type": "code",
   "execution_count": null,
   "id": "4a3fcfcd",
   "metadata": {},
   "outputs": [],
   "source": [
    "# 2. Выручка пользователей из Москвы отличается от выручки пользователей из других регионов\n",
    "average_revenue_moscow = pd.merge(df_merged, users[['user_id', 'city']]).query(\"city == 'Москва'\") \\\n",
    "                           .groupby(by='user_id') \\\n",
    "                           .aggregate(revenue=('attempt_of_revenue', 'mean'))\n",
    "average_revenue_all_region = pd.merge(df_merged, users[['user_id', 'city']]) \\\n",
    "                               .query(\"city != 'Москва'\") \\\n",
    "                               .groupby(by='user_id').aggregate(revenue=('attempt_of_revenue', 'mean'))\n",
    "\n",
    "second_test_result = st.ttest_ind(average_revenue_moscow['revenue'], \n",
    "                                  average_revenue_all_region['revenue'], \n",
    "                                  equal_var=True).pvalue\n",
    "\n",
    "print(f\"p-значение: {second_test_result}\")\n",
    "\n",
    "if second_test_result < alpha: \n",
    "    print('Отвергаем нулевую гипотезу!')\n",
    "else: \n",
    "    print('Не получилось отвергнуть нулевую гипотезу!\\nВыручка слабо зависит от региона')"
   ]
  },
  {
   "cell_type": "markdown",
   "id": "d211d064",
   "metadata": {},
   "source": [
    "#### Гипотезы нам показали, что Региональных факторов и Москвы, влияющих на выручку - нет, однако выручка зависит от тарифа. <br> Для того, чтобы понять какой тариф лучше, мы можем вызвать функцию describe(), либо сравнить Меры Центральной Тенденции:"
   ]
  },
  {
   "cell_type": "code",
   "execution_count": null,
   "id": "550e5382",
   "metadata": {},
   "outputs": [],
   "source": [
    "# Победитель - тариф ультра.\n",
    "print(f\"Median.\\n Ultra: {average_revenue_ultra['revenue'].median()} comparison to Smart: {average_revenue_smart['revenue'].median()}\")\n",
    "print(f\"Mean.\\n Ultra: {average_revenue_ultra['revenue'].mean()} comparison to Smart: {average_revenue_smart['revenue'].mean()}\")"
   ]
  }
 ],
 "metadata": {
  "kernelspec": {
   "display_name": "Python 3 (ipykernel)",
   "language": "python",
   "name": "python3"
  },
  "language_info": {
   "codemirror_mode": {
    "name": "ipython",
    "version": 3
   },
   "file_extension": ".py",
   "mimetype": "text/x-python",
   "name": "python",
   "nbconvert_exporter": "python",
   "pygments_lexer": "ipython3",
   "version": "3.8.10"
  }
 },
 "nbformat": 4,
 "nbformat_minor": 5
}
